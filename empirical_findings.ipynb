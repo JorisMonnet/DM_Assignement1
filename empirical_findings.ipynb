{
 "cells": [
  {
   "cell_type": "markdown",
   "source": [
    "# Assignement 1\n",
    "## Digital Musicology\n",
    "\n",
    "@authors: JorisMonnet, Pannnnestrella, YutakaOsaki, Yiwei Liu\n",
    "\n",
    "Due Date: 27/03/2024"
   ],
   "metadata": {
    "collapsed": false
   },
   "id": "6495da41f593f6c5"
  },
  {
   "cell_type": "markdown",
   "source": [
    "## Task A: Timing Function"
   ],
   "metadata": {
    "collapsed": false
   },
   "id": "85f24003fbd7935f"
  },
  {
   "cell_type": "code",
   "execution_count": null,
   "id": "initial_id",
   "metadata": {
    "collapsed": true
   },
   "outputs": [],
   "source": [
    "# TODO: plot the two plots from the timing file"
   ]
  },
  {
   "cell_type": "markdown",
   "source": [
    "## Task B: Empirical findings"
   ],
   "metadata": {
    "collapsed": false
   },
   "id": "e53454c5d79dbd92"
  },
  {
   "cell_type": "markdown",
   "source": [
    "### 1. Subcorpus Analysis"
   ],
   "metadata": {
    "collapsed": false
   },
   "id": "fb9ac96bba7b44cd"
  },
  {
   "cell_type": "code",
   "outputs": [],
   "source": [
    "# TODO:\n",
    "# What is the distribution of note onsets on metrical locations? \n",
    "# Answer this question separately for different time signatures. \n",
    "# At least do 4/4 and 3/4 time signatures. Illustrate your finding with figures."
   ],
   "metadata": {
    "collapsed": false
   },
   "id": "7d0f3e589b3cb5a"
  },
  {
   "cell_type": "code",
   "outputs": [],
   "source": [
    "# TODO:\n",
    "# Where in the metrical grid are expressive timing likely to happen? \n",
    "# Support it with quantitative evidence. Illustrate your finding with figures."
   ],
   "metadata": {
    "collapsed": false
   },
   "id": "bea67876734e3d67"
  },
  {
   "cell_type": "code",
   "outputs": [],
   "source": [
    "# TODO:\n",
    "# Think about another empirical question that you can verify from this data, and present your findings.\n",
    "# \n",
    "#     (Easy example) which style has the most variability in timing."
   ],
   "metadata": {
    "collapsed": false
   },
   "id": "ed03e0d0910a7d8f"
  },
  {
   "cell_type": "code",
   "outputs": [],
   "source": [
    "# TODO:\n",
    "#  (Difficult example) How well can your model generalize across different styles?"
   ],
   "metadata": {
    "collapsed": false
   },
   "id": "43f5ccf08cb0ac4a"
  },
  {
   "cell_type": "markdown",
   "source": [
    "TODO: report your findings"
   ],
   "metadata": {
    "collapsed": false
   },
   "id": "406d202dfcef49e0"
  }
 ],
 "metadata": {
  "kernelspec": {
   "display_name": "Python 3",
   "language": "python",
   "name": "python3"
  },
  "language_info": {
   "codemirror_mode": {
    "name": "ipython",
    "version": 2
   },
   "file_extension": ".py",
   "mimetype": "text/x-python",
   "name": "python",
   "nbconvert_exporter": "python",
   "pygments_lexer": "ipython2",
   "version": "2.7.6"
  }
 },
 "nbformat": 4,
 "nbformat_minor": 5
}
